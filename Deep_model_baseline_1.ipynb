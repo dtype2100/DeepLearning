{
  "nbformat": 4,
  "nbformat_minor": 0,
  "metadata": {
    "colab": {
      "provenance": [],
      "collapsed_sections": [],
      "authorship_tag": "ABX9TyP3GnKx9OSJ8lIVbbYhAfSd",
      "include_colab_link": true
    },
    "kernelspec": {
      "name": "python3",
      "display_name": "Python 3"
    },
    "language_info": {
      "name": "python"
    }
  },
  "cells": [
    {
      "cell_type": "markdown",
      "metadata": {
        "id": "view-in-github",
        "colab_type": "text"
      },
      "source": [
        "<a href=\"https://colab.research.google.com/github/dtype2100/DeepLearning/blob/master/Deep_model_baseline_1.ipynb\" target=\"_parent\"><img src=\"https://colab.research.google.com/assets/colab-badge.svg\" alt=\"Open In Colab\"/></a>"
      ]
    },
    {
      "cell_type": "markdown",
      "source": [
        "# CNN\n",
        "1. [Cats vs Dogs CNN model 1](https://www.kaggle.com/code/ahmedtarek26/cats-vs-dogs-cnn-model)\n",
        "2. [Cats vs Dogs CNN model 2](https://github.com/rickiepark/deep-learning-with-python-notebooks/blob/master/5.2-using-convnets-with-small-datasets.ipynb)"
      ],
      "metadata": {
        "id": "WXgEKHm8MLuF"
      }
    },
    {
      "cell_type": "code",
      "execution_count": null,
      "metadata": {
        "id": "aoFAkN0GtINH"
      },
      "outputs": [],
      "source": [
        "import numpy as np # linear algebra\n",
        "import pandas as pd # data processing, CSV file I/O (e.g. pd.read_csv)\n",
        "# ignore warning messages\n",
        "import warnings\n",
        "warnings.filterwarnings('ignore')\n",
        "\n",
        "from sklearn.model_selection import train_test_split\n",
        "from tensorflow import keras\n",
        "import tensorflow as tf\n",
        "from keras.models import Model\n",
        "from keras.layers import Input, Lambda, Dense, Flatten,Dropout\n",
        "from keras.applications.vgg16 import VGG16\n",
        "from keras.applications.vgg16 import preprocess_input\n",
        "from keras.preprocessing import image\n",
        "from keras.preprocessing.image import ImageDataGenerator\n",
        "from keras.models import Sequential\n",
        "from keras.models import load_model\n",
        "import numpy as np\n",
        "from glob import glob\n",
        "import seaborn as sns\n",
        "import matplotlib.pyplot as plt\n",
        "import os\n",
        "import random\n",
        "import zipfile"
      ]
    },
    {
      "cell_type": "code",
      "source": [
        "train_data, val_data = train_test_split(train_df, \n",
        "                                        test_size = 0.2, \n",
        "                                        stratify = train_df[\"label\"], \n",
        "                                        random_state = 666)"
      ],
      "metadata": {
        "id": "lTS69mOnM0RF"
      },
      "execution_count": null,
      "outputs": []
    },
    {
      "cell_type": "code",
      "source": [
        "train_datagen = ImageDataGenerator(rescale=1./255,\n",
        "                                     rotation_range=0.4,\n",
        "                                     zoom_range=0.2,\n",
        "                                     width_shift_range=0.2,\n",
        "                                     height_shift_range=0.2,\n",
        "                                     shear_range=0.2,\n",
        "                                     horizontal_flip=True,\n",
        "                                     brightness_range=[0.6,0.9],\n",
        "                                     fill_mode='nearest',\n",
        ")\n",
        "\n",
        "train_generator = train_datagen.flow_from_dataframe(\n",
        "    dataframe = train_data,\n",
        "    directory = files + \"train/\",\n",
        "    x_col = \"file\",\n",
        "    y_col = \"label\",\n",
        "    class_mode = \"categorical\",\n",
        "    target_size = (224, 224),\n",
        "    batch_size = 128,\n",
        "    seed = 666)\n",
        "                                                      \n",
        "validation_datagen = ImageDataGenerator(rescale=1./255)\n",
        "\n",
        "validation_generator = validation_datagen.flow_from_dataframe(\n",
        "    dataframe = val_data,\n",
        "    directory = files + \"train/\",\n",
        "    x_col = \"file\",\n",
        "    y_col = \"label\",\n",
        "    class_mode = \"categorical\",\n",
        "    target_size = (224, 224),\n",
        "    batch_size = 128,\n",
        "    seed = 666,\n",
        "    shuffle = False)"
      ],
      "metadata": {
        "id": "b6tWNKSGM3Oc"
      },
      "execution_count": null,
      "outputs": []
    },
    {
      "cell_type": "code",
      "source": [
        "def create_cnn_model():\n",
        "  model = tf.keras.models.Sequential([\n",
        "      tf.keras.layers.Conv2D(32, (3, 3), activation='relu', input_shape=(224, 224, 3)),\n",
        "      tf.keras.layers.MaxPooling2D(2, 2),\n",
        "      tf.keras.laters.BatchNormalization(),\n",
        "      tf.keras.layers.Dropout(0.2),\n",
        "\n",
        "      tf.keras.layers.Conv2D(64, (3, 3), activation='relu'),\n",
        "      tf.keras.layers.Maxpooling2D(2, 2),\n",
        "      tf.keras.layers.Dropout(0.2),\n",
        "\n",
        "      tf.keras.layers.Conv2D(128, (3, 3), activation='relu'),\n",
        "      tf.keras.layers.Maxpooling2D(2, 2),\n",
        "      tf.keras.layers.Dropout(0.2),\n",
        "\n",
        "      tf.keras.layers.Flatten(),\n",
        "      tf.keras.layers.Dense(512, activation='relu'),\n",
        "      tf.keras.layers.Dropout(0.5),\n",
        "      tf.keras.layers.Dense(128, activation='relu'),\n",
        "      tf.keras.laters.Dense(2, activation='sigmoid')\n",
        "  ])\n",
        "\n",
        "  model.compile(optimizer='adam',\n",
        "                loss='categorical_crossentropy',\n",
        "                metrics=['accuracy'])\n",
        "  \n",
        "  return model"
      ],
      "metadata": {
        "id": "8ZIqp3tJxoyu"
      },
      "execution_count": null,
      "outputs": []
    },
    {
      "cell_type": "code",
      "source": [
        "cnn_model = create_cnn_model()\n",
        "cnn_model.summary()"
      ],
      "metadata": {
        "id": "3P_fMxAIJqKG"
      },
      "execution_count": null,
      "outputs": []
    },
    {
      "cell_type": "code",
      "source": [
        "cnn_train = cnn_model.fit(train_generator,\n",
        "                          epochs=1,\n",
        "                          verbose=True,\n",
        "                          validation_data=validation_gerator\n",
        "                          steps_per_epoch=100,\n",
        "                          validation_steps=20)"
      ],
      "metadata": {
        "id": "-rzv101ZJqFH"
      },
      "execution_count": null,
      "outputs": []
    }
  ]
}